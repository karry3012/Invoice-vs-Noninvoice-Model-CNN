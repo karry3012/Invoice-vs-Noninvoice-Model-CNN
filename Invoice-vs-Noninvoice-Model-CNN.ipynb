version https://git-lfs.github.com/spec/v1
oid sha256:cf960f8a9aec69829b5a1ab1918eb0c0f90420d02295ad48793e472bbf78c3b6
size 1820168
